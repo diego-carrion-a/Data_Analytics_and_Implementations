{
 "cells": [
  {
   "cell_type": "code",
   "execution_count": 26,
   "metadata": {},
   "outputs": [],
   "source": [
    "import pandas as pd\n",
    "import numpy as np"
   ]
  },
  {
   "cell_type": "code",
   "execution_count": 3,
   "metadata": {},
   "outputs": [],
   "source": [
    "usZipCodeData = pd.read_csv('http://people.bu.edu/kalathur/datasets/uszips.csv',\n",
    " converters={'zip': lambda x: str(x)})"
   ]
  },
  {
   "cell_type": "code",
   "execution_count": 27,
   "metadata": {},
   "outputs": [
    {
     "data": {
      "text/html": [
       "<div>\n",
       "<style scoped>\n",
       "    .dataframe tbody tr th:only-of-type {\n",
       "        vertical-align: middle;\n",
       "    }\n",
       "\n",
       "    .dataframe tbody tr th {\n",
       "        vertical-align: top;\n",
       "    }\n",
       "\n",
       "    .dataframe thead th {\n",
       "        text-align: right;\n",
       "    }\n",
       "</style>\n",
       "<table border=\"1\" class=\"dataframe\">\n",
       "  <thead>\n",
       "    <tr style=\"text-align: right;\">\n",
       "      <th></th>\n",
       "      <th>zip</th>\n",
       "      <th>lat</th>\n",
       "      <th>lng</th>\n",
       "      <th>city</th>\n",
       "      <th>state_id</th>\n",
       "      <th>state_name</th>\n",
       "      <th>population</th>\n",
       "      <th>density</th>\n",
       "      <th>county_name</th>\n",
       "      <th>timezone</th>\n",
       "    </tr>\n",
       "  </thead>\n",
       "  <tbody>\n",
       "    <tr>\n",
       "      <th>0</th>\n",
       "      <td>01001</td>\n",
       "      <td>42.0626</td>\n",
       "      <td>-72.6259</td>\n",
       "      <td>Agawam</td>\n",
       "      <td>MA</td>\n",
       "      <td>Massachusetts</td>\n",
       "      <td>16769</td>\n",
       "      <td>565.8</td>\n",
       "      <td>Hampden</td>\n",
       "      <td>America/New_York</td>\n",
       "    </tr>\n",
       "    <tr>\n",
       "      <th>1</th>\n",
       "      <td>01002</td>\n",
       "      <td>42.3749</td>\n",
       "      <td>-72.4621</td>\n",
       "      <td>Amherst</td>\n",
       "      <td>MA</td>\n",
       "      <td>Massachusetts</td>\n",
       "      <td>29049</td>\n",
       "      <td>203.8</td>\n",
       "      <td>Hampshire</td>\n",
       "      <td>America/New_York</td>\n",
       "    </tr>\n",
       "    <tr>\n",
       "      <th>2</th>\n",
       "      <td>01003</td>\n",
       "      <td>42.3919</td>\n",
       "      <td>-72.5248</td>\n",
       "      <td>Amherst</td>\n",
       "      <td>MA</td>\n",
       "      <td>Massachusetts</td>\n",
       "      <td>10372</td>\n",
       "      <td>5629.7</td>\n",
       "      <td>Hampshire</td>\n",
       "      <td>America/New_York</td>\n",
       "    </tr>\n",
       "    <tr>\n",
       "      <th>3</th>\n",
       "      <td>01005</td>\n",
       "      <td>42.4202</td>\n",
       "      <td>-72.1061</td>\n",
       "      <td>Barre</td>\n",
       "      <td>MA</td>\n",
       "      <td>Massachusetts</td>\n",
       "      <td>5079</td>\n",
       "      <td>44.3</td>\n",
       "      <td>Worcester</td>\n",
       "      <td>America/New_York</td>\n",
       "    </tr>\n",
       "    <tr>\n",
       "      <th>4</th>\n",
       "      <td>01007</td>\n",
       "      <td>42.2787</td>\n",
       "      <td>-72.4003</td>\n",
       "      <td>Belchertown</td>\n",
       "      <td>MA</td>\n",
       "      <td>Massachusetts</td>\n",
       "      <td>14649</td>\n",
       "      <td>107.4</td>\n",
       "      <td>Hampshire</td>\n",
       "      <td>America/New_York</td>\n",
       "    </tr>\n",
       "  </tbody>\n",
       "</table>\n",
       "</div>"
      ],
      "text/plain": [
       "     zip      lat      lng         city state_id     state_name  population  \\\n",
       "0  01001  42.0626 -72.6259       Agawam       MA  Massachusetts       16769   \n",
       "1  01002  42.3749 -72.4621      Amherst       MA  Massachusetts       29049   \n",
       "2  01003  42.3919 -72.5248      Amherst       MA  Massachusetts       10372   \n",
       "3  01005  42.4202 -72.1061        Barre       MA  Massachusetts        5079   \n",
       "4  01007  42.2787 -72.4003  Belchertown       MA  Massachusetts       14649   \n",
       "\n",
       "   density county_name          timezone  \n",
       "0    565.8     Hampden  America/New_York  \n",
       "1    203.8   Hampshire  America/New_York  \n",
       "2   5629.7   Hampshire  America/New_York  \n",
       "3     44.3   Worcester  America/New_York  \n",
       "4    107.4   Hampshire  America/New_York  "
      ]
     },
     "execution_count": 27,
     "metadata": {},
     "output_type": "execute_result"
    }
   ],
   "source": [
    "usZipCodeData.head()"
   ]
  },
  {
   "cell_type": "code",
   "execution_count": 19,
   "metadata": {},
   "outputs": [
    {
     "data": {
      "text/plain": [
       "count     32968.000000\n",
       "mean       9364.370389\n",
       "std       13670.580420\n",
       "min           0.000000\n",
       "25%         733.000000\n",
       "50%        2779.500000\n",
       "75%       12814.750000\n",
       "max      113916.000000\n",
       "Name: population, dtype: float64"
      ]
     },
     "execution_count": 19,
     "metadata": {},
     "output_type": "execute_result"
    }
   ],
   "source": [
    "##Q1\n",
    "usZipCodeData.population.describe()"
   ]
  },
  {
   "cell_type": "code",
   "execution_count": 31,
   "metadata": {},
   "outputs": [
    {
     "data": {
      "text/plain": [
       "9995"
      ]
     },
     "execution_count": 31,
     "metadata": {},
     "output_type": "execute_result"
    }
   ],
   "source": [
    "##Q2\n",
    "usZipCodeData.zip[usZipCodeData['population']<1000].count()"
   ]
  },
  {
   "cell_type": "code",
   "execution_count": 45,
   "metadata": {},
   "outputs": [
    {
     "data": {
      "text/html": [
       "<div>\n",
       "<style scoped>\n",
       "    .dataframe tbody tr th:only-of-type {\n",
       "        vertical-align: middle;\n",
       "    }\n",
       "\n",
       "    .dataframe tbody tr th {\n",
       "        vertical-align: top;\n",
       "    }\n",
       "\n",
       "    .dataframe thead th {\n",
       "        text-align: right;\n",
       "    }\n",
       "</style>\n",
       "<table border=\"1\" class=\"dataframe\">\n",
       "  <thead>\n",
       "    <tr style=\"text-align: right;\">\n",
       "      <th></th>\n",
       "      <th>zip</th>\n",
       "      <th>lat</th>\n",
       "      <th>lng</th>\n",
       "      <th>city</th>\n",
       "      <th>state_id</th>\n",
       "      <th>state_name</th>\n",
       "      <th>population</th>\n",
       "      <th>density</th>\n",
       "      <th>county_name</th>\n",
       "      <th>timezone</th>\n",
       "    </tr>\n",
       "  </thead>\n",
       "  <tbody>\n",
       "    <tr>\n",
       "      <th>0</th>\n",
       "      <td>01001</td>\n",
       "      <td>42.0626</td>\n",
       "      <td>-72.6259</td>\n",
       "      <td>Agawam</td>\n",
       "      <td>MA</td>\n",
       "      <td>Massachusetts</td>\n",
       "      <td>16769.0</td>\n",
       "      <td>565.8</td>\n",
       "      <td>Hampden</td>\n",
       "      <td>America/New_York</td>\n",
       "    </tr>\n",
       "    <tr>\n",
       "      <th>1</th>\n",
       "      <td>01002</td>\n",
       "      <td>42.3749</td>\n",
       "      <td>-72.4621</td>\n",
       "      <td>Amherst</td>\n",
       "      <td>MA</td>\n",
       "      <td>Massachusetts</td>\n",
       "      <td>29049.0</td>\n",
       "      <td>203.8</td>\n",
       "      <td>Hampshire</td>\n",
       "      <td>America/New_York</td>\n",
       "    </tr>\n",
       "    <tr>\n",
       "      <th>2</th>\n",
       "      <td>01003</td>\n",
       "      <td>42.3919</td>\n",
       "      <td>-72.5248</td>\n",
       "      <td>Amherst</td>\n",
       "      <td>MA</td>\n",
       "      <td>Massachusetts</td>\n",
       "      <td>10372.0</td>\n",
       "      <td>5629.7</td>\n",
       "      <td>Hampshire</td>\n",
       "      <td>America/New_York</td>\n",
       "    </tr>\n",
       "    <tr>\n",
       "      <th>3</th>\n",
       "      <td>01005</td>\n",
       "      <td>42.4202</td>\n",
       "      <td>-72.1061</td>\n",
       "      <td>Barre</td>\n",
       "      <td>MA</td>\n",
       "      <td>Massachusetts</td>\n",
       "      <td>5079.0</td>\n",
       "      <td>44.3</td>\n",
       "      <td>Worcester</td>\n",
       "      <td>America/New_York</td>\n",
       "    </tr>\n",
       "    <tr>\n",
       "      <th>4</th>\n",
       "      <td>01007</td>\n",
       "      <td>42.2787</td>\n",
       "      <td>-72.4003</td>\n",
       "      <td>Belchertown</td>\n",
       "      <td>MA</td>\n",
       "      <td>Massachusetts</td>\n",
       "      <td>14649.0</td>\n",
       "      <td>107.4</td>\n",
       "      <td>Hampshire</td>\n",
       "      <td>America/New_York</td>\n",
       "    </tr>\n",
       "    <tr>\n",
       "      <th>5</th>\n",
       "      <td>01008</td>\n",
       "      <td>42.1843</td>\n",
       "      <td>-72.9520</td>\n",
       "      <td>Blandford</td>\n",
       "      <td>MA</td>\n",
       "      <td>Massachusetts</td>\n",
       "      <td>1263.0</td>\n",
       "      <td>9.1</td>\n",
       "      <td>Hampden</td>\n",
       "      <td>America/New_York</td>\n",
       "    </tr>\n",
       "    <tr>\n",
       "      <th>6</th>\n",
       "      <td>01008</td>\n",
       "      <td>42.1843</td>\n",
       "      <td>-72.9520</td>\n",
       "      <td>Blandford</td>\n",
       "      <td>MA</td>\n",
       "      <td>Massachusetts</td>\n",
       "      <td>1263.0</td>\n",
       "      <td>9.1</td>\n",
       "      <td>Hampden</td>\n",
       "      <td>America/New_York</td>\n",
       "    </tr>\n",
       "    <tr>\n",
       "      <th>7</th>\n",
       "      <td>01010</td>\n",
       "      <td>42.1286</td>\n",
       "      <td>-72.2062</td>\n",
       "      <td>Brimfield</td>\n",
       "      <td>MA</td>\n",
       "      <td>Massachusetts</td>\n",
       "      <td>3609.0</td>\n",
       "      <td>40.1</td>\n",
       "      <td>Hampden</td>\n",
       "      <td>America/New_York</td>\n",
       "    </tr>\n",
       "    <tr>\n",
       "      <th>8</th>\n",
       "      <td>01011</td>\n",
       "      <td>42.2966</td>\n",
       "      <td>-72.9597</td>\n",
       "      <td>Chester</td>\n",
       "      <td>MA</td>\n",
       "      <td>Massachusetts</td>\n",
       "      <td>1370.0</td>\n",
       "      <td>16.7</td>\n",
       "      <td>Hampden</td>\n",
       "      <td>America/New_York</td>\n",
       "    </tr>\n",
       "    <tr>\n",
       "      <th>9</th>\n",
       "      <td>01011</td>\n",
       "      <td>42.2966</td>\n",
       "      <td>-72.9597</td>\n",
       "      <td>Chester</td>\n",
       "      <td>MA</td>\n",
       "      <td>Massachusetts</td>\n",
       "      <td>1370.0</td>\n",
       "      <td>16.7</td>\n",
       "      <td>Hampden</td>\n",
       "      <td>America/New_York</td>\n",
       "    </tr>\n",
       "  </tbody>\n",
       "</table>\n",
       "</div>"
      ],
      "text/plain": [
       "     zip      lat      lng         city state_id     state_name  population  \\\n",
       "0  01001  42.0626 -72.6259       Agawam       MA  Massachusetts     16769.0   \n",
       "1  01002  42.3749 -72.4621      Amherst       MA  Massachusetts     29049.0   \n",
       "2  01003  42.3919 -72.5248      Amherst       MA  Massachusetts     10372.0   \n",
       "3  01005  42.4202 -72.1061        Barre       MA  Massachusetts      5079.0   \n",
       "4  01007  42.2787 -72.4003  Belchertown       MA  Massachusetts     14649.0   \n",
       "5  01008  42.1843 -72.9520    Blandford       MA  Massachusetts      1263.0   \n",
       "6  01008  42.1843 -72.9520    Blandford       MA  Massachusetts      1263.0   \n",
       "7  01010  42.1286 -72.2062    Brimfield       MA  Massachusetts      3609.0   \n",
       "8  01011  42.2966 -72.9597      Chester       MA  Massachusetts      1370.0   \n",
       "9  01011  42.2966 -72.9597      Chester       MA  Massachusetts      1370.0   \n",
       "\n",
       "   density county_name          timezone  \n",
       "0    565.8     Hampden  America/New_York  \n",
       "1    203.8   Hampshire  America/New_York  \n",
       "2   5629.7   Hampshire  America/New_York  \n",
       "3     44.3   Worcester  America/New_York  \n",
       "4    107.4   Hampshire  America/New_York  \n",
       "5      9.1     Hampden  America/New_York  \n",
       "6      9.1     Hampden  America/New_York  \n",
       "7     40.1     Hampden  America/New_York  \n",
       "8     16.7     Hampden  America/New_York  \n",
       "9     16.7     Hampden  America/New_York  "
      ]
     },
     "execution_count": 45,
     "metadata": {},
     "output_type": "execute_result"
    }
   ],
   "source": [
    "##Q3\n",
    "usZipCodeData=usZipCodeData[usZipCodeData['population']>=1000]\n",
    "usZipCodeData= usZipCodeData.reindex(np.arange(usZipCodeData.zip.count())\\\n",
    "    , method='ffill')\n",
    "usZipCodeData.head(10)"
   ]
  },
  {
   "cell_type": "code",
   "execution_count": 40,
   "metadata": {},
   "outputs": [
    {
     "data": {
      "text/plain": [
       "count     16354.000000\n",
       "mean      11954.517855\n",
       "std       13524.544302\n",
       "min        1000.000000\n",
       "25%        2376.000000\n",
       "50%        6020.000000\n",
       "75%       17351.000000\n",
       "max      113916.000000\n",
       "Name: population, dtype: float64"
      ]
     },
     "execution_count": 40,
     "metadata": {},
     "output_type": "execute_result"
    }
   ],
   "source": [
    "##Q4\n",
    "usZipCodeData.population.describe()\n",
    "## count is obviously smaller, mean, min, quantiles, higher.\n",
    "## max is the same.\n",
    "## stdev is smaller, make sense"
   ]
  },
  {
   "cell_type": "code",
   "execution_count": 46,
   "metadata": {},
   "outputs": [
    {
     "data": {
      "text/html": [
       "<div>\n",
       "<style scoped>\n",
       "    .dataframe tbody tr th:only-of-type {\n",
       "        vertical-align: middle;\n",
       "    }\n",
       "\n",
       "    .dataframe tbody tr th {\n",
       "        vertical-align: top;\n",
       "    }\n",
       "\n",
       "    .dataframe thead th {\n",
       "        text-align: right;\n",
       "    }\n",
       "</style>\n",
       "<table border=\"1\" class=\"dataframe\">\n",
       "  <thead>\n",
       "    <tr style=\"text-align: right;\">\n",
       "      <th></th>\n",
       "      <th>zip</th>\n",
       "      <th>lat</th>\n",
       "      <th>lng</th>\n",
       "      <th>city</th>\n",
       "      <th>state_id</th>\n",
       "      <th>state_name</th>\n",
       "      <th>population</th>\n",
       "      <th>density</th>\n",
       "      <th>county_name</th>\n",
       "      <th>timezone</th>\n",
       "    </tr>\n",
       "  </thead>\n",
       "  <tbody>\n",
       "    <tr>\n",
       "      <th>0</th>\n",
       "      <td>01001</td>\n",
       "      <td>42.0626</td>\n",
       "      <td>-72.6259</td>\n",
       "      <td>Agawam</td>\n",
       "      <td>MA</td>\n",
       "      <td>Massachusetts</td>\n",
       "      <td>16769.0</td>\n",
       "      <td>565.8</td>\n",
       "      <td>Hampden</td>\n",
       "      <td>America/New_York</td>\n",
       "    </tr>\n",
       "    <tr>\n",
       "      <th>1</th>\n",
       "      <td>01002</td>\n",
       "      <td>42.3749</td>\n",
       "      <td>-72.4621</td>\n",
       "      <td>Amherst</td>\n",
       "      <td>MA</td>\n",
       "      <td>Massachusetts</td>\n",
       "      <td>29049.0</td>\n",
       "      <td>203.8</td>\n",
       "      <td>Hampshire</td>\n",
       "      <td>America/New_York</td>\n",
       "    </tr>\n",
       "    <tr>\n",
       "      <th>2</th>\n",
       "      <td>01003</td>\n",
       "      <td>42.3919</td>\n",
       "      <td>-72.5248</td>\n",
       "      <td>Amherst</td>\n",
       "      <td>MA</td>\n",
       "      <td>Massachusetts</td>\n",
       "      <td>10372.0</td>\n",
       "      <td>5629.7</td>\n",
       "      <td>Hampshire</td>\n",
       "      <td>America/New_York</td>\n",
       "    </tr>\n",
       "    <tr>\n",
       "      <th>3</th>\n",
       "      <td>01005</td>\n",
       "      <td>42.4202</td>\n",
       "      <td>-72.1061</td>\n",
       "      <td>Barre</td>\n",
       "      <td>MA</td>\n",
       "      <td>Massachusetts</td>\n",
       "      <td>5079.0</td>\n",
       "      <td>44.3</td>\n",
       "      <td>Worcester</td>\n",
       "      <td>America/New_York</td>\n",
       "    </tr>\n",
       "    <tr>\n",
       "      <th>4</th>\n",
       "      <td>01007</td>\n",
       "      <td>42.2787</td>\n",
       "      <td>-72.4003</td>\n",
       "      <td>Belchertown</td>\n",
       "      <td>MA</td>\n",
       "      <td>Massachusetts</td>\n",
       "      <td>14649.0</td>\n",
       "      <td>107.4</td>\n",
       "      <td>Hampshire</td>\n",
       "      <td>America/New_York</td>\n",
       "    </tr>\n",
       "  </tbody>\n",
       "</table>\n",
       "</div>"
      ],
      "text/plain": [
       "     zip      lat      lng         city state_id     state_name  population  \\\n",
       "0  01001  42.0626 -72.6259       Agawam       MA  Massachusetts     16769.0   \n",
       "1  01002  42.3749 -72.4621      Amherst       MA  Massachusetts     29049.0   \n",
       "2  01003  42.3919 -72.5248      Amherst       MA  Massachusetts     10372.0   \n",
       "3  01005  42.4202 -72.1061        Barre       MA  Massachusetts      5079.0   \n",
       "4  01007  42.2787 -72.4003  Belchertown       MA  Massachusetts     14649.0   \n",
       "\n",
       "   density county_name          timezone  \n",
       "0    565.8     Hampden  America/New_York  \n",
       "1    203.8   Hampshire  America/New_York  \n",
       "2   5629.7   Hampshire  America/New_York  \n",
       "3     44.3   Worcester  America/New_York  \n",
       "4    107.4   Hampshire  America/New_York  "
      ]
     },
     "execution_count": 46,
     "metadata": {},
     "output_type": "execute_result"
    }
   ],
   "source": [
    "##Q5\n",
    "ma_StateData= usZipCodeData[usZipCodeData['state_name']=='Massachusetts']\n",
    "ma_StateData.head()"
   ]
  },
  {
   "cell_type": "code",
   "execution_count": 47,
   "metadata": {},
   "outputs": [
    {
     "data": {
      "text/plain": [
       "count      538.000000\n",
       "mean     13246.195167\n",
       "std      11941.778786\n",
       "min       1023.000000\n",
       "25%       3784.500000\n",
       "50%       9671.000000\n",
       "75%      17802.500000\n",
       "max      61025.000000\n",
       "Name: population, dtype: float64"
      ]
     },
     "execution_count": 47,
     "metadata": {},
     "output_type": "execute_result"
    }
   ],
   "source": [
    "## Q6\n",
    "ma_StateData.population.describe()\n",
    "## smaller count, higher mean, smaller stdev (make sense, more alike values)\n",
    "## min, quantiles higher, max is smaller."
   ]
  },
  {
   "cell_type": "code",
   "execution_count": 48,
   "metadata": {},
   "outputs": [],
   "source": [
    "import matplotlib.pyplot as plt"
   ]
  },
  {
   "cell_type": "code",
   "execution_count": 49,
   "metadata": {},
   "outputs": [
    {
     "data": {
      "text/plain": [
       "(array([218., 104.,  85.,  42.,  41.,  17.,  15.,   8.,   3.,   5.]),\n",
       " array([ 1023. ,  7023.2, 13023.4, 19023.6, 25023.8, 31024. , 37024.2,\n",
       "        43024.4, 49024.6, 55024.8, 61025. ]),\n",
       " <a list of 10 Patch objects>)"
      ]
     },
     "execution_count": 49,
     "metadata": {},
     "output_type": "execute_result"
    },
    {
     "data": {
      "image/png": "[encoded data removed]",
      "text/plain": [
       "<Figure size 432x288 with 1 Axes>"
      ]
     },
     "metadata": {
      "needs_background": "light"
     },
     "output_type": "display_data"
    }
   ],
   "source": [
    "### Q7\n",
    "plt.hist(ma_StateData.population)"
   ]
  },
  {
   "cell_type": "code",
   "execution_count": null,
   "metadata": {},
   "outputs": [],
   "source": [
    "### population on massachusets state shows a right skeewed\n",
    "### distribution of values, which implies that the mode and median\n",
    "### are lower than the mean\n",
    "### the histogam also show us that the state has\n",
    "### a high concentration of zipcodes with less than 20,000 people\n"
   ]
  },
  {
   "cell_type": "code",
   "execution_count": 61,
   "metadata": {},
   "outputs": [
    {
     "name": "stdout",
     "output_type": "stream",
     "text": [
      "       zip  density\n",
      "335  02113  26621.2\n",
      "337  02115  15493.4\n",
      "385  02215  13184.0\n",
      "338  02116  12629.5\n",
      "331  02108  10828.1\n",
      "334  02111  10547.8\n",
      "336  02114  10286.0\n",
      "370  02163  10057.4\n",
      "341  02120   9444.0\n",
      "339  02118   9336.1\n",
      "357  02139   9009.3\n",
      "415  02446   8793.4\n",
      "362  02144   8525.7\n",
      "332  02109   8358.3\n",
      "383  02199   7731.5\n",
      "382  02199   7731.5\n",
      "275  01902   7252.5\n",
      "359  02141   7164.6\n",
      "363  02145   7036.8\n",
      "354  02135   6269.0\n"
     ]
    }
   ],
   "source": [
    "##Q8\n",
    "topzip_20_density =ma_StateData.sort_values(by='density', ascending=False)[['zip','density']].head(20)\n",
    "print(topzip_20_density)"
   ]
  },
  {
   "cell_type": "code",
   "execution_count": 62,
   "metadata": {},
   "outputs": [
    {
     "name": "stdout",
     "output_type": "stream",
     "text": [
      "       zip  population\n",
      "386  02301     61025.0\n",
      "364  02148     59503.0\n",
      "369  02155     57964.0\n",
      "403  02360     56271.0\n",
      "371  02169     55055.0\n",
      "367  02151     51808.0\n",
      "297  01960     50944.0\n",
      "534  02780     49036.0\n",
      "344  02124     47783.0\n",
      "257  01844     47249.0\n",
      "255  01841     47225.0\n",
      "76   01201     46504.0\n",
      "275  01902     45139.0\n",
      "503  02703     43593.0\n",
      "502  02703     43593.0\n",
      "516  02740     43087.0\n",
      "354  02135     42780.0\n",
      "365  02149     41550.0\n",
      "52   01085     41117.0\n",
      "53   01085     41117.0\n"
     ]
    }
   ],
   "source": [
    "##Q9\n",
    "topzip_20_population=ma_StateData.sort_values(by='population', ascending=False)[['zip','population']].head(20)\n",
    "print(topzip_20_population)"
   ]
  },
  {
   "cell_type": "code",
   "execution_count": 91,
   "metadata": {},
   "outputs": [
    {
     "data": {
      "text/plain": [
       "['01902', '02135']"
      ]
     },
     "execution_count": 91,
     "metadata": {},
     "output_type": "execute_result"
    }
   ],
   "source": [
    "###Q10\n",
    "[x for x in np.array(topzip_20_population.zip) if x in np.array(topzip_20_density.zip)]"
   ]
  },
  {
   "cell_type": "code",
   "execution_count": 95,
   "metadata": {},
   "outputs": [
    {
     "data": {
      "text/plain": [
       "<matplotlib.collections.PathCollection at 0x19b7711c5f8>"
      ]
     },
     "execution_count": 95,
     "metadata": {},
     "output_type": "execute_result"
    },
    {
     "data": {
      "image/png": "[encoded data removed]",
      "text/plain": [
       "<Figure size 432x288 with 1 Axes>"
      ]
     },
     "metadata": {
      "needs_background": "light"
     },
     "output_type": "display_data"
    }
   ],
   "source": [
    "###Q11\n",
    "x= ma_StateData.lat\n",
    "y= ma_StateData.lng\n",
    "colors= np.log(ma_StateData.population)\n",
    "size = np.multiply(ma_StateData.density, 1/25)\n",
    "plt.scatter(x,y, c= colors, s= size)"
   ]
  },
  {
   "cell_type": "code",
   "execution_count": 103,
   "metadata": {},
   "outputs": [
    {
     "data": {
      "text/plain": [
       "(-1.1129928306416546,\n",
       " 1.1006187084465824,\n",
       " -1.1022311507147013,\n",
       " 1.1130696137195224)"
      ]
     },
     "execution_count": 103,
     "metadata": {},
     "output_type": "execute_result"
    },
    {
     "data": {
      "image/png": "[encoded data removed]",
      "text/plain": [
       "<Figure size 432x288 with 1 Axes>"
      ]
     },
     "metadata": {},
     "output_type": "display_data"
    }
   ],
   "source": [
    "##Q12\n",
    "top_75=usZipCodeData.sort_values(by='population', ascending= False).head(75)\n",
    "labels = pd.Series(top_75.state_name).unique()\n",
    "values = pd.Series(top_75.state_name).value_counts()\n",
    "plt.pie(values, labels=labels)\n",
    "plt.axis('equal')"
   ]
  },
  {
   "cell_type": "code",
   "execution_count": 129,
   "metadata": {},
   "outputs": [
    {
     "data": {
      "text/plain": [
       "<BarContainer object of 10 artists>"
      ]
     },
     "execution_count": 129,
     "metadata": {},
     "output_type": "execute_result"
    },
    {
     "data": {
      "image/png": "[encoded data removed]",
      "text/plain": [
       "<Figure size 432x288 with 1 Axes>"
      ]
     },
     "metadata": {
      "needs_background": "light"
     },
     "output_type": "display_data"
    }
   ],
   "source": [
    "##q13\n",
    "np.random.seed(6805)\n",
    "rows=np.random.randint(ma_StateData.zip.count(), size=10).tolist()\n",
    "data=ma_StateData.iloc[rows]\n",
    "plt.barh(data.city, data.population)"
   ]
  }
 ],
 "metadata": {
  "kernelspec": {
   "display_name": "Python 3",
   "language": "python",
   "name": "python3"
  },
  "language_info": {
   "codemirror_mode": {
    "name": "ipython",
    "version": 3
   },
   "file_extension": ".py",
   "mimetype": "text/x-python",
   "name": "python",
   "nbconvert_exporter": "python",
   "pygments_lexer": "ipython3",
   "version": "3.7.3"
  }
 },
 "nbformat": 4,
 "nbformat_minor": 2
}
